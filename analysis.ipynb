{
 "cells": [
  {
   "cell_type": "code",
   "execution_count": 1,
   "metadata": {
    "vscode": {
     "languageId": "r"
    }
   },
   "outputs": [],
   "source": [
    "suppressPackageStartupMessages({\n",
    "    library(Seurat)\n",
    "    library(celldex)\n",
    "    library(ShinyCell)\n",
    "    library(dplyr)\n",
    "    library(SingleR)\n",
    "    library(dplyr)\n",
    "    library(tibble)\n",
    "})\n"
   ]
  },
  {
   "cell_type": "code",
   "execution_count": 1,
   "metadata": {
    "vscode": {
     "languageId": "r"
    }
   },
   "outputs": [],
   "source": [
    "source(\"scTools/R/process.geo.data.r\")"
   ]
  },
  {
   "cell_type": "code",
   "execution_count": 6,
   "metadata": {
    "vscode": {
     "languageId": "r"
    }
   },
   "outputs": [
    {
     "data": {
      "text/html": [
       "31"
      ],
      "text/latex": [
       "31"
      ],
      "text/markdown": [
       "31"
      ],
      "text/plain": [
       "[1] 31"
      ]
     },
     "metadata": {},
     "output_type": "display_data"
    },
    {
     "data": {
      "text/plain": [
       "$GSM397200969\n",
       "An object of class Seurat \n",
       "15951 features across 3421 samples within 1 assay \n",
       "Active assay: RNA (15951 features, 0 variable features)\n",
       " 1 layer present: counts\n",
       "\n",
       "$GSM397201068\n",
       "An object of class Seurat \n",
       "15982 features across 8123 samples within 1 assay \n",
       "Active assay: RNA (15982 features, 0 variable features)\n",
       " 1 layer present: counts\n",
       "\n",
       "$GSM3972011122\n",
       "An object of class Seurat \n",
       "15225 features across 1438 samples within 1 assay \n",
       "Active assay: RNA (15225 features, 0 variable features)\n",
       " 1 layer present: counts\n",
       "\n",
       "$GSM3972012123\n",
       "An object of class Seurat \n",
       "15386 features across 2725 samples within 1 assay \n",
       "Active assay: RNA (15386 features, 0 variable features)\n",
       " 1 layer present: counts\n",
       "\n",
       "$GSM3972013128\n",
       "An object of class Seurat \n",
       "17085 features across 2964 samples within 1 assay \n",
       "Active assay: RNA (17085 features, 0 variable features)\n",
       " 1 layer present: counts\n",
       "\n",
       "$GSM3972014129\n",
       "An object of class Seurat \n",
       "16012 features across 2378 samples within 1 assay \n",
       "Active assay: RNA (16012 features, 0 variable features)\n",
       " 1 layer present: counts\n",
       "\n",
       "$GSM3972015135\n",
       "An object of class Seurat \n",
       "17057 features across 4171 samples within 1 assay \n",
       "Active assay: RNA (17057 features, 0 variable features)\n",
       " 1 layer present: counts\n",
       "\n",
       "$GSM3972016138\n",
       "An object of class Seurat \n",
       "16896 features across 4253 samples within 1 assay \n",
       "Active assay: RNA (16896 features, 0 variable features)\n",
       " 1 layer present: counts\n",
       "\n",
       "$GSM3972017158\n",
       "An object of class Seurat \n",
       "18249 features across 4982 samples within 1 assay \n",
       "Active assay: RNA (18249 features, 0 variable features)\n",
       " 1 layer present: counts\n",
       "\n",
       "$GSM3972018159\n",
       "An object of class Seurat \n",
       "18157 features across 5344 samples within 1 assay \n",
       "Active assay: RNA (18157 features, 0 variable features)\n",
       " 1 layer present: counts\n",
       "\n",
       "$GSM3972019180\n",
       "An object of class Seurat \n",
       "18017 features across 3408 samples within 1 assay \n",
       "Active assay: RNA (18017 features, 0 variable features)\n",
       " 1 layer present: counts\n",
       "\n",
       "$GSM3972020181\n",
       "An object of class Seurat \n",
       "17982 features across 10156 samples within 1 assay \n",
       "Active assay: RNA (17982 features, 0 variable features)\n",
       " 1 layer present: counts\n",
       "\n",
       "$GSM3972021186\n",
       "An object of class Seurat \n",
       "17450 features across 5394 samples within 1 assay \n",
       "Active assay: RNA (17450 features, 0 variable features)\n",
       " 1 layer present: counts\n",
       "\n",
       "$GSM3972022187\n",
       "An object of class Seurat \n",
       "14759 features across 1582 samples within 1 assay \n",
       "Active assay: RNA (14759 features, 0 variable features)\n",
       " 1 layer present: counts\n",
       "\n",
       "$GSM3972023189\n",
       "An object of class Seurat \n",
       "18662 features across 5347 samples within 1 assay \n",
       "Active assay: RNA (18662 features, 0 variable features)\n",
       " 1 layer present: counts\n",
       "\n",
       "$GSM3972024190\n",
       "An object of class Seurat \n",
       "18447 features across 5257 samples within 1 assay \n",
       "Active assay: RNA (18447 features, 0 variable features)\n",
       " 1 layer present: counts\n",
       "\n",
       "$GSM3972025192\n",
       "An object of class Seurat \n",
       "19180 features across 7952 samples within 1 assay \n",
       "Active assay: RNA (19180 features, 0 variable features)\n",
       " 1 layer present: counts\n",
       "\n",
       "$GSM3972026193\n",
       "An object of class Seurat \n",
       "18818 features across 9453 samples within 1 assay \n",
       "Active assay: RNA (18818 features, 0 variable features)\n",
       " 1 layer present: counts\n",
       "\n",
       "$GSM3972027195\n",
       "An object of class Seurat \n",
       "17595 features across 4111 samples within 1 assay \n",
       "Active assay: RNA (17595 features, 0 variable features)\n",
       " 1 layer present: counts\n",
       "\n",
       "$GSM3972028196\n",
       "An object of class Seurat \n",
       "18102 features across 3493 samples within 1 assay \n",
       "Active assay: RNA (18102 features, 0 variable features)\n",
       " 1 layer present: counts\n",
       "\n",
       "$GSM3972029208\n",
       "An object of class Seurat \n",
       "17779 features across 3546 samples within 1 assay \n",
       "Active assay: RNA (17779 features, 0 variable features)\n",
       " 1 layer present: counts\n",
       "\n",
       "$GSM3972030209\n",
       "An object of class Seurat \n",
       "18131 features across 4548 samples within 1 assay \n",
       "Active assay: RNA (18131 features, 0 variable features)\n",
       " 1 layer present: counts\n",
       "\n",
       "$GSM476113667\n",
       "An object of class Seurat \n",
       "10313 features across 1486 samples within 1 assay \n",
       "Active assay: RNA (10313 features, 0 variable features)\n",
       " 1 layer present: counts\n",
       "\n",
       "$GSM4761137126\n",
       "An object of class Seurat \n",
       "14663 features across 2176 samples within 1 assay \n",
       "Active assay: RNA (14663 features, 0 variable features)\n",
       " 1 layer present: counts\n",
       "\n",
       "$GSM4761138127\n",
       "An object of class Seurat \n",
       "14294 features across 977 samples within 1 assay \n",
       "Active assay: RNA (14294 features, 0 variable features)\n",
       " 1 layer present: counts\n",
       "\n",
       "$GSM4761139134\n",
       "An object of class Seurat \n",
       "13601 features across 1333 samples within 1 assay \n",
       "Active assay: RNA (13601 features, 0 variable features)\n",
       " 1 layer present: counts\n",
       "\n",
       "$GSM4761140157\n",
       "An object of class Seurat \n",
       "15884 features across 3031 samples within 1 assay \n",
       "Active assay: RNA (15884 features, 0 variable features)\n",
       " 1 layer present: counts\n",
       "\n",
       "$GSM4761141179\n",
       "An object of class Seurat \n",
       "16287 features across 4531 samples within 1 assay \n",
       "Active assay: RNA (16287 features, 0 variable features)\n",
       " 1 layer present: counts\n",
       "\n",
       "$GSM4761142185\n",
       "An object of class Seurat \n",
       "16576 features across 6201 samples within 1 assay \n",
       "Active assay: RNA (16576 features, 0 variable features)\n",
       " 1 layer present: counts\n",
       "\n",
       "$GSM4761143191\n",
       "An object of class Seurat \n",
       "18104 features across 13625 samples within 1 assay \n",
       "Active assay: RNA (18104 features, 0 variable features)\n",
       " 1 layer present: counts\n",
       "\n",
       "$GSM4761144194\n",
       "An object of class Seurat \n",
       "16579 features across 5257 samples within 1 assay \n",
       "Active assay: RNA (16579 features, 0 variable features)\n",
       " 1 layer present: counts\n"
      ]
     },
     "metadata": {},
     "output_type": "display_data"
    }
   ],
   "source": [
    "seurat_objs <- process.GEO.data(GEOID = \"GSE134809\")\n",
    "length(seurat_objs)\n",
    "seurat_objs"
   ]
  },
  {
   "cell_type": "code",
   "execution_count": 7,
   "metadata": {
    "vscode": {
     "languageId": "r"
    }
   },
   "outputs": [
    {
     "name": "stderr",
     "output_type": "stream",
     "text": [
      "Warning message:\n",
      "“Some cell names are duplicated across objects provided. Renaming to enforce unique cell names.”\n"
     ]
    },
    {
     "data": {
      "text/plain": [
       "An object of class Seurat \n",
       "23022 features across 142663 samples within 1 assay \n",
       "Active assay: RNA (23022 features, 0 variable features)\n",
       " 31 layers present: counts.1, counts.2, counts.3, counts.4, counts.5, counts.6, counts.7, counts.8, counts.9, counts.10, counts.11, counts.12, counts.13, counts.14, counts.15, counts.16, counts.17, counts.18, counts.19, counts.20, counts.21, counts.22, counts.23, counts.24, counts.25, counts.26, counts.27, counts.28, counts.29, counts.30, counts.31"
      ]
     },
     "metadata": {},
     "output_type": "display_data"
    }
   ],
   "source": [
    "# Merge samples\n",
    "seurat_objs <- get(load(\"objects/GSE134809.rda\"))\n",
    "obj <- merge(seurat_objs[[1]], \n",
    "c(seurat_objs[[2]], seurat_objs[[3]], seurat_objs[[4]], seurat_objs[[5]], seurat_objs[[6]], seurat_objs[[7]],\n",
    "  seurat_objs[[8]], seurat_objs[[9]], seurat_objs[[10]], seurat_objs[[11]], seurat_objs[[12]], seurat_objs[[13]],\n",
    "  seurat_objs[[14]], seurat_objs[[15]], seurat_objs[[16]], seurat_objs[[17]], seurat_objs[[18]], \n",
    "  seurat_objs[[19]], seurat_objs[[20]], seurat_objs[[21]], seurat_objs[[22]], seurat_objs[[23]], \n",
    "  seurat_objs[[24]], seurat_objs[[25]], seurat_objs[[26]], seurat_objs[[27]], seurat_objs[[28]], \n",
    "  seurat_objs[[29]], seurat_objs[[30]], seurat_objs[[31]]))\n",
    "\n",
    "# Update metadata\n",
    "obj@meta.data$Stim <- obj@meta.data$characteristics_ch1.1\n",
    "obj@meta.data$Tissue <- obj@meta.data$tissue.ch1\n",
    "obj@meta.data$Donor <- obj@meta.data$title\n",
    "\n",
    "columns_to_keep <-  c('Donor', 'Tissue', 'Stim')\n",
    "obj@meta.data <- obj@meta.data[, columns_to_keep, drop = FALSE]\n",
    "head(obj@meta.data)\n",
    "obj\n",
    "save(obj, file = file.path(\"objects\", \"00.rda\"))"
   ]
  },
  {
   "cell_type": "code",
   "execution_count": null,
   "metadata": {
    "vscode": {
     "languageId": "r"
    }
   },
   "outputs": [],
   "source": [
    "# Get unique elements from each column\n",
    "unique_elements <- lapply(obj@meta.data, unique)\n",
    "\n",
    "# Print the unique elements for each column\n",
    "print(unique_elements)"
   ]
  },
  {
   "cell_type": "code",
   "execution_count": null,
   "metadata": {
    "vscode": {
     "languageId": "r"
    }
   },
   "outputs": [],
   "source": [
    "# load(file=file.path(\"objects\", \"00.rda\"))\n",
    "options(future.globals.maxSize = 8000 * 1024^2)\n",
    "obj <- SCTransform(obj, ncells = 3000,  variable.features.n = 2000, vst.flavor=\"v2\", method = 'glmGamPoi',\n",
    "conserve.memory = FALSE, verbose = TRUE)\n",
    "\n",
    "save(obj, file=file.path(\"objects\", \"01.rda\"))"
   ]
  },
  {
   "cell_type": "code",
   "execution_count": 8,
   "metadata": {
    "vscode": {
     "languageId": "r"
    }
   },
   "outputs": [
    {
     "data": {
      "text/plain": [
       "An object of class Seurat \n",
       "23022 features across 115701 samples within 1 assay \n",
       "Active assay: RNA (23022 features, 0 variable features)\n",
       " 1 layer present: counts"
      ]
     },
     "metadata": {},
     "output_type": "display_data"
    }
   ],
   "source": [
    "# Clean up data\n",
    "# obj <- JoinLayers(obj)\n",
    "obj[[\"percent.mt\"]] <- PercentageFeatureSet(object = obj, pattern = \"^MT-\")\n",
    "# obj <- subset(obj, subset = nFeature_RNA > 350 & nFeature_RNA < 5000 & percent.mt < 10)\n",
    "obj\n",
    "save(obj, file = file.path(\"objects\", \"02.rda\"))"
   ]
  },
  {
   "cell_type": "code",
   "execution_count": null,
   "metadata": {
    "vscode": {
     "languageId": "r"
    }
   },
   "outputs": [],
   "source": [
    "monaco.ref <- celldex::MonacoImmuneData()\n",
    "blueprint.ref <- celldex::BlueprintEncodeData()\n",
    "\n",
    "# Blueprint annnotation\n",
    "sce <- LayerData(obj)\n",
    "blueprint.main <- SingleR(test = sce, assay.type.test = 1, ref = blueprint.ref, labels = blueprint.ref$label.main)\n",
    "obj@meta.data$blueprint.main <- blueprint.main$pruned.labels\n",
    "save(obj, file=file.path(\"objects\", \"03.rda\"))\n",
    "\n",
    "# Monaco annontation\n",
    "sce <- LayerData(obj)\n",
    "monaco.fine <- SingleR(test = sce, assay.type.test = 1, ref = monaco.ref, labels = monaco.ref$label.fine)\n",
    "obj@meta.data$monaco.fine <- monaco.fine$pruned.labels\n",
    "save(obj, file=file.path('objects', '04.rda'))"
   ]
  },
  {
   "cell_type": "code",
   "execution_count": 2,
   "metadata": {
    "vscode": {
     "languageId": "r"
    }
   },
   "outputs": [],
   "source": [
    "load(file=file.path(\"objects\", \"04.rda\"))"
   ]
  },
  {
   "cell_type": "code",
   "execution_count": 5,
   "metadata": {
    "vscode": {
     "languageId": "r"
    }
   },
   "outputs": [
    {
     "data": {
      "text/plain": [
       "An object of class Seurat \n",
       "44058 features across 142663 samples within 2 assays \n",
       "Active assay: SCT (21036 features, 2000 variable features)\n",
       " 3 layers present: counts, data, scale.data\n",
       " 1 other assay present: RNA"
      ]
     },
     "metadata": {},
     "output_type": "display_data"
    }
   ],
   "source": [
    "obj"
   ]
  },
  {
   "cell_type": "code",
   "execution_count": 3,
   "metadata": {
    "vscode": {
     "languageId": "r"
    }
   },
   "outputs": [
    {
     "data": {
      "text/plain": [
       "An object of class Seurat \n",
       "44058 features across 142663 samples within 2 assays \n",
       "Active assay: SCT (21036 features, 2000 variable features)\n",
       " 3 layers present: counts, data, scale.data\n",
       " 1 other assay present: RNA"
      ]
     },
     "metadata": {},
     "output_type": "display_data"
    },
    {
     "name": "stderr",
     "output_type": "stream",
     "text": [
      "Warning message:\n",
      "“Assay SCT changing from SCTAssay to Assay”\n"
     ]
    },
    {
     "data": {
      "text/plain": [
       "An object of class Seurat \n",
       "44058 features across 142663 samples within 2 assays \n",
       "Active assay: SCT (21036 features, 2000 variable features)\n",
       " 3 layers present: counts, data, scale.data\n",
       " 1 other assay present: RNA"
      ]
     },
     "metadata": {},
     "output_type": "display_data"
    }
   ],
   "source": [
    "seu =  obj\n",
    "seu\n",
    "seu[[\"SCT\"]] <- as(object = seu[[\"SCT\"]], Class = \"Assay\")\n",
    "seu"
   ]
  },
  {
   "cell_type": "code",
   "execution_count": 10,
   "metadata": {
    "vscode": {
     "languageId": "r"
    }
   },
   "outputs": [],
   "source": [
    "DefaultAssay(obj) <- \"RNA\"\n",
    "obj <- JoinLayers(obj)"
   ]
  },
  {
   "cell_type": "code",
   "execution_count": 4,
   "metadata": {
    "vscode": {
     "languageId": "r"
    }
   },
   "outputs": [
    {
     "ename": "ERROR",
     "evalue": "Error in UseMethod(generic = \"JoinLayers\", object = object): no applicable method for 'JoinLayers' applied to an object of class \"c('Assay', 'KeyMixin')\"\n",
     "output_type": "error",
     "traceback": [
      "Error in UseMethod(generic = \"JoinLayers\", object = object): no applicable method for 'JoinLayers' applied to an object of class \"c('Assay', 'KeyMixin')\"\nTraceback:\n",
      "1. JoinLayers(seu)",
      "2. JoinLayers.Seurat(seu)",
      "3. JoinLayers(object = object[[assay]], layers = layers, new = new, \n .     ...)"
     ]
    }
   ],
   "source": [
    "\n",
    "\n",
    "seu = JoinLayers(seu)\n",
    "scConf1 = createConfig(seu)"
   ]
  },
  {
   "cell_type": "code",
   "execution_count": null,
   "metadata": {
    "vscode": {
     "languageId": "r"
    }
   },
   "outputs": [],
   "source": [
    "load(file=file.path(\"objects\", \"04.rda\"))\n",
    "DefaultAssay(obj) <- \"RNA\"\n",
    "obj <- JoinLayers(obj)\n",
    "DefaultAssay(obj) <- \"SCT\"\n",
    "obj <- subset(obj, subset = Tissue == \"Blood\")\n",
    "obj <- RunPCA(obj, npcs = 30, verbose = TRUE)\n",
    "obj <- RunUMAP(obj, reduction = \"pca\", dims = 1:20)\n",
    "obj <- FindNeighbors(obj, reduction = \"pca\", dims = 1:20)\n",
    "obj <- FindClusters(obj, resolution = 0.5)\n",
    "# save(obj, file=file.path(\"objects\", \"03.rda\"))\n",
    "\n",
    "seu =  obj\n",
    "scConf1 = createConfig(seu)\n",
    "makeShinyFiles(seu, scConf1, gene.mapping = TRUE, shiny.prefix = \"sc1\", shiny.dir = \"crohns_scRNAseq_GSE134809/\", gex.assay = \"SCT\")"
   ]
  },
  {
   "cell_type": "code",
   "execution_count": null,
   "metadata": {
    "vscode": {
     "languageId": "r"
    }
   },
   "outputs": [],
   "source": [
    "load(file=file.path(\"objects\", \"04.rda\"))\n",
    "DefaultAssay(obj) <- \"RNA\"\n",
    "obj <- JoinLayers(obj)\n",
    "DefaultAssay(obj) <- \"SCT\"\n",
    "obj <- subset(obj, subset = Tissue == \"ileal\")\n",
    "obj <- RunPCA(obj, npcs = 30, verbose = TRUE)\n",
    "obj <- RunUMAP(obj, reduction = \"pca\", dims = 1:20)\n",
    "obj <- FindNeighbors(obj, reduction = \"pca\", dims = 1:20)\n",
    "obj <- FindClusters(obj, resolution = 0.5)\n",
    "# save(obj, file=file.path(\"objects\", \"03.rda\"))\n",
    "\n",
    "seu =  obj\n",
    "scConf2 = createConfig(seu)\n",
    "makeShinyFiles(seu, scConf2, gene.mapping = TRUE, shiny.prefix = \"sc2\", shiny.dir = \"crohns_scRNAseq_GSE134809/\", gex.assay = \"SCT\")"
   ]
  }
 ],
 "metadata": {
  "kernelspec": {
   "display_name": "R",
   "language": "R",
   "name": "ir"
  },
  "language_info": {
   "codemirror_mode": "r",
   "file_extension": ".r",
   "mimetype": "text/x-r-source",
   "name": "R",
   "pygments_lexer": "r",
   "version": "4.3.3"
  }
 },
 "nbformat": 4,
 "nbformat_minor": 2
}
